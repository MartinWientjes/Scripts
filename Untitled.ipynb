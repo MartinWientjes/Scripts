{
 "cells": [
  {
   "cell_type": "markdown",
   "metadata": {},
   "source": [
    "# Mac Terminal Reference: 40+ Useful OS X Terminal Commands"
   ]
  },
  {
   "cell_type": "code",
   "execution_count": null,
   "metadata": {
    "collapsed": true
   },
   "outputs": [],
   "source": [
    "Here are a bunch of Mac terminal commands sorted into general categories. I have intentionally omitted long bash scripts and AppleScripts and focussed instead on small useful commands that can be plugged into bigger scripts or used on their own… enjoy!"
   ]
  },
  {
   "cell_type": "markdown",
   "metadata": {},
   "source": [
    "## Terminal & Shell Basics"
   ]
  },
  {
   "cell_type": "markdown",
   "metadata": {},
   "source": [
    "cmd+n – Open a new Shell in a new window\n",
    "cmd+t – Open a new Shell in a new tab of the current window\n",
    "control+d – Logout the Shell in the current tab / window\n",
    "cmd+d – Split pane. this is not a new shell, just a way of displaying the current Shell."
   ]
  },
  {
   "cell_type": "markdown",
   "metadata": {},
   "source": [
    "# System"
   ]
  },
  {
   "cell_type": "markdown",
   "metadata": {},
   "source": [
    "Restart Mac OS X:"
   ]
  },
  {
   "cell_type": "code",
   "execution_count": null,
   "metadata": {
    "collapsed": true
   },
   "outputs": [],
   "source": [
    "sudo shutdown -r now"
   ]
  },
  {
   "cell_type": "markdown",
   "metadata": {},
   "source": [
    "Shutdown Mac OS X:"
   ]
  },
  {
   "cell_type": "code",
   "execution_count": null,
   "metadata": {
    "collapsed": true
   },
   "outputs": [],
   "source": [
    "sudo shutdown now"
   ]
  },
  {
   "cell_type": "markdown",
   "metadata": {},
   "source": [
    "Power Management / Energy Saving\n",
    "\n",
    "Get overview of current Power Management Settings:"
   ]
  },
  {
   "cell_type": "code",
   "execution_count": null,
   "metadata": {
    "collapsed": true
   },
   "outputs": [],
   "source": [
    "pmset -g"
   ]
  },
  {
   "cell_type": "markdown",
   "metadata": {},
   "source": [
    "Put display to sleep after 15 minutes of inactivity:"
   ]
  },
  {
   "cell_type": "code",
   "execution_count": null,
   "metadata": {
    "collapsed": true
   },
   "outputs": [],
   "source": [
    "sudo pmset displaysleep 15"
   ]
  },
  {
   "cell_type": "markdown",
   "metadata": {},
   "source": [
    "Put Computer to sleep after 30 minutes of inactivity:"
   ]
  },
  {
   "cell_type": "code",
   "execution_count": null,
   "metadata": {
    "collapsed": true
   },
   "outputs": [],
   "source": [
    "sudo pmset sleep 30"
   ]
  },
  {
   "cell_type": "code",
   "execution_count": 2,
   "metadata": {
    "collapsed": false
   },
   "outputs": [
    {
     "ename": "SyntaxError",
     "evalue": "invalid syntax (<ipython-input-2-ae091e52df8e>, line 1)",
     "output_type": "error",
     "traceback": [
      "\u001b[0;36m  File \u001b[0;32m\"<ipython-input-2-ae091e52df8e>\"\u001b[0;36m, line \u001b[0;32m1\u001b[0m\n\u001b[0;31m    Here are a bunch of Mac terminal commands sorted into general categories. I have intentionally omitted long bash scripts and AppleScripts and focussed instead on small useful commands that can be plugged into bigger scripts or used on their own… enjoy!\u001b[0m\n\u001b[0m           ^\u001b[0m\n\u001b[0;31mSyntaxError\u001b[0m\u001b[0;31m:\u001b[0m invalid syntax\n"
     ]
    }
   ],
   "source": [
    "…Also see my post about hibernate mode and Safe Sleep on the Mac\n",
    "\n",
    "OS X Look and Feel\n",
    "\n",
    "Permanently disable Dock icon bouncing\n",
    "\n",
    "If you don’t like the way Mountain Lion now makes the User ‘Library’ folder invisible, you can disable this.\n",
    "\n",
    "chflags nohidden ~/Library\n",
    "…you don’t need to relaunch the Finder.\n",
    "\n",
    "Disable Dashboard (don’t forget to drag the Dashboard Dock icon off the Dock too):\n",
    "\n",
    "defaults write com.apple.dashboard mcx-disabled -boolean YES\n",
    "killall Dock\n",
    "Enable Dashboard:\n",
    "\n",
    "defaults write com.apple.dashboard mcx-disabled -boolean NO\n",
    "killall Dock\n",
    "Force the Finder to show hidden files (very useful for Web Developers who need to edit .htaccess files, for example):\n",
    "\n",
    "defaults write com.apple.finder AppleShowAllFiles TRUE\n",
    "Force the Finder to hide hidden files (ie: back to the default setting):\n",
    "\n",
    "defaults write com.apple.finder AppleShowAllFiles FALSE\n",
    "Networking\n",
    "\n",
    "Ping a host to see whether it’s available:\n",
    "\n",
    "ping -o leftcolumn.net\n",
    "Troubleshoot routing problems to a host using traceroute:\n",
    "\n",
    "traceroute leftcolumn.net\n",
    "Check whether a host is running an HTTP server (ie: check that a Web Site is available):\n",
    "\n",
    "curl -I www.leftcolumn.net | head -n 1\n",
    "Automatically enable Internet Sharing at startup\n",
    "\n",
    "Manage Windows networks (a drop-in for the NET command on Windows). Too many options to list here, so run this for details:\n",
    "\n",
    "man net\n",
    "Use dig to discover Domain information:\n",
    "\n",
    "dig www.leftcolumn.net A\n",
    "dig www.leftcolumn.net MX\n",
    "…and you can also retrieve all available stuff in the DNS Zone for a domain with eg:\n",
    "\n",
    "dig -t ANY google.co.nz\n",
    "Who is logged in to your Mac?\n",
    "\n",
    "w\n",
    "What’s my user name? This is really useful for bash scripts etc.\n",
    "\n",
    "whoami\n",
    "Show routing table:\n",
    "\n",
    "netstat -r\n",
    "Show active network connections:\n",
    "\n",
    "netstat -an\n",
    "Show network statistics:\n",
    "\n",
    "netstat -s\n",
    "Troubleshooting\n",
    "\n",
    "List all open files (this will take a few seconds to complete on most Macs):\n",
    "\n",
    "lsof\n",
    "Restart Bonjour – handy when a Mac ‘disappears’ from the Network:\n",
    "\n",
    "sudo launchctl unload /System/Library/LaunchDaemons/com.apple.mDNSResponder.plist\n",
    "sudo launchctl load /System/Library/LaunchDaemons/com.apple.mDNSResponder.plist\n",
    "Eject a CD… it’s never happened to me but you can eject a stuck cd with the following. Note that it won’t always be ‘disk1’:\n",
    "\n",
    "diskutil eject disk1\n",
    "Text Manipulation terminal commands\n",
    "\n",
    "Sometimes you need to take some text from the clipboard or a file, transform it somehow and then use it. Here are a bunch of mac terminal commands that do text manipulation. I’ve assumed you want to transform text from the clipboard and back again; see the notes at the end of the article for info on how to write to and from files instead.\n",
    "\n",
    "Count number of lines in the text in the Clipboard:\n",
    "\n",
    "pbpaste | wc -l\n",
    "Count number of words in the text in the Clipboard:\n",
    "\n",
    "pbpaste | wc -w\n",
    "Sort lines of text in the Clipboard and copy them back to the Clipboard:\n",
    "\n",
    "pbpaste | sort | pbcopy\n",
    "Reverse each line of text in the Clipboard (ie: make each line appear backwards) and copy them back to the Clipboard:\n",
    "\n",
    "pbpaste | rev | pbcopy\n",
    "Strip duplicate lines from lines of text in the Clipboard and copy only one instance of each duplicate line back to the Clipboard (output is sorted):\n",
    "\n",
    "pbpaste | sort | uniq | pbcopy\n",
    "Find duplicate lines from lines of text in the Clipboard and copy only one instance of each duplicate line (stripping non-duplicates) back to the Clipboard (output is sorted):\n",
    "\n",
    "pbpaste | sort | uniq -d | pbcopy\n",
    "Strip duplicate lines from lines of text in the Clipboard and copy only one instance of each line (stripping duplicates entirely) back to the Clipboard (output is sorted):\n",
    "\n",
    "pbpaste | sort | uniq -u | pbcopy\n",
    "Tidy up HTML in the Clipboard and copy it back to the Clipboard:\n",
    "\n",
    "pbpaste | tidy | pbcopy\n",
    "Display the first 5 lines from the Clipboard:\n",
    "\n",
    "pbpaste | head -n 5\n",
    "Display the last 5 lines from the Clipboard:\n",
    "\n",
    "pbpaste | tail -n 5\n",
    "Convert tabs to spaces for the lines in the Clipboard:\n",
    "\n",
    "pbpaste | expand | pbcopy\n",
    "Other useful commands\n",
    "\n",
    "Password protect your web site! Create a CRYPTed user/password for using in a .htpasswd file. Save the outputted results of A below to a file called .htpasswd in the directory you want to secure. Then save the contents of B to a file called .htaccess in the same folder.\n",
    "\n",
    "A:\n",
    "\n",
    "htpasswd -nb username password\n",
    "B:\n",
    "\n",
    "AuthType Basic\n",
    "AuthName \"restricted area\"\n",
    "AuthUserFile /path/to/your/site/.htpasswd\n",
    "require valid-user\n",
    "Display a history of commands used in the terminal by the current user:\n",
    "\n",
    "history\n",
    "Convert a file to HTML. Support formats are Text, .RTF, .DOC.\n",
    "\n",
    "textutil -convert html file.extension\n",
    "Nano is a very easy-to-use text editor for quick changes to text files. It is less powerful than VIM but has the advantage of clearly showing you the common editing commands:\n",
    "\n",
    "nano [file_to_edit]\n",
    "…In nano, use ctrl+o to Save and ctrl+x to quit.\n",
    "\n",
    "Greg shared a way of tidying the terminal window. Essentially this command scrolls down a page, clearing the current view:\n",
    "\n",
    "clear\n",
    "iTunes\n",
    "\n",
    "Change iTunes link behaviour to point at local iTunes Library instead of iTunes Store:\n",
    "\n",
    "defaults write com.apple.iTunes invertStoreLinks -bool YES\n",
    "Change iTunes link behaviour to point at iTunes Store instead of local iTunes Library (ie: back to the default):\n",
    "\n",
    "defaults write com.apple.iTunes invertStoreLinks -bool NO\n",
    "Other Mac OS X Terminal Resources\n",
    "\n",
    "Mac OS X Hacking Tools (old but detailed list for the obsessive only).\n",
    "\n",
    "Cameron Hayne’s Bash Scripts\n",
    "\n",
    "Mac OS X Hints\n",
    "\n",
    "Apple Forums\n",
    "\n",
    "Note: For commands where I’ve used pbcopy to get the contents of the Clipboard as input, you can use the contents of a file as input instead. Swap pbpaste for:\n",
    "\n",
    "cat [/path/to/filename]\n",
    "And to put the results into a file on your desktop, just swap | pbcopy for:\n",
    "\n",
    "> ~/Desktop/filename.txt"
   ]
  },
  {
   "cell_type": "code",
   "execution_count": null,
   "metadata": {
    "collapsed": true
   },
   "outputs": [],
   "source": []
  }
 ],
 "metadata": {
  "kernelspec": {
   "display_name": "Python 3",
   "language": "python",
   "name": "python3"
  },
  "language_info": {
   "codemirror_mode": {
    "name": "ipython",
    "version": 3
   },
   "file_extension": ".py",
   "mimetype": "text/x-python",
   "name": "python",
   "nbconvert_exporter": "python",
   "pygments_lexer": "ipython3",
   "version": "3.6.0"
  }
 },
 "nbformat": 4,
 "nbformat_minor": 2
}
